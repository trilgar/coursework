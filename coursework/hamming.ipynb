{
 "cells": [
  {
   "cell_type": "code",
   "execution_count": 1,
   "outputs": [],
   "source": [
    "import matplotlib.pyplot as plt\n",
    "import numpy as np  # linear algebra\n",
    "import pandas as pd  # data processing, CSV file I/O (e.g. pd.read_csv)\n",
    "from sklearn.ensemble import RandomForestClassifier\n",
    "from sklearn.model_selection import train_test_split\n",
    "from itertools import combinations, product\n",
    "from tqdm import tqdm  # progress bar\n",
    "from math import sqrt"
   ],
   "metadata": {
    "collapsed": false
   }
  },
  {
   "cell_type": "code",
   "execution_count": 2,
   "outputs": [
    {
     "name": "stderr",
     "output_type": "stream",
     "text": [
      "C:\\Users\\ALEX\\AppData\\Local\\Temp\\ipykernel_10660\\1560496564.py:4: FutureWarning: In a future version of pandas all arguments of DataFrame.drop except for the argument 'labels' will be keyword-only.\n",
      "  X_train = allTrain.drop('label', 1).to_numpy()\n"
     ]
    },
    {
     "name": "stdout",
     "output_type": "stream",
     "text": [
      "data import complete\n"
     ]
    }
   ],
   "source": [
    "# import data\n",
    "allTrain = pd.read_csv('D:/notebooks/coursework/dataset/train.csv')\n",
    "n = len(allTrain)\n",
    "X_train = allTrain.drop('label', 1).to_numpy()\n",
    "Y_train = allTrain['label'].to_numpy()\n",
    "del allTrain\n",
    "test = pd.read_csv('D:/notebooks/coursework/dataset/test.csv')\n",
    "X_test = test.to_numpy()\n",
    "print(\"data import complete\")"
   ],
   "metadata": {
    "collapsed": false
   }
  },
  {
   "cell_type": "code",
   "execution_count": 3,
   "outputs": [],
   "source": [
    "class Hamming_Net(object):\n",
    "    def __init__(self, x):\n",
    "        self.k = len(x)\n",
    "        self.m = len(x[0])\n",
    "        self.w = np.zeros((self.k, self.m))\n",
    "        for i in range(self.k):\n",
    "            for j in range(self.m):\n",
    "                self.w[i][j] = (x[i][j]) / 2\n",
    "        self.T = self.m / 2  # параметр активационной функции\n",
    "        self.e = round(1 / len(x), 1)\n",
    "        self.E = [[0 for j in range(self.k)] for i in range(self.k)]\n",
    "        self.Emax = 0.000001  # максимально допустимое значение нормы разности выходных векторов на двух последовательных итерациях\n",
    "        self.U = 1 / self.Emax\n",
    "        for i in range(self.k):\n",
    "            for j in range(self.k):\n",
    "                if j == i:\n",
    "                    self.E[i][j] = 1.0\n",
    "                else:\n",
    "                    self.E[i][j] = -self.e\n",
    "\n",
    "    def defineLabel(self, y):\n",
    "        s = [self.product(self.w, y, self.T)]\n",
    "        p = self.action(s[0], self.U, self.Emax)\n",
    "        y = [p]\n",
    "        i = 0\n",
    "        p = [0 for j in range(len(s[0]))]\n",
    "        while self.norm(y[i], p) >= self.Emax:\n",
    "            s.append([0 for j in range(len(s[0]))])\n",
    "            for j in range(len(s[0])):\n",
    "                s[i + 1][j] = y[i][j] - self.e * self.mysum(y[i], j)\n",
    "            y.append((self.action(s[i + 1], self.U, self.Emax)))\n",
    "            i += 1\n",
    "            p = y[i - 1]\n",
    "        # print(\"label is {}\".format(y[len(y) - 1].index(max(y[len(y) - 1])) + 1))\n",
    "        return y[len(y) - 1].index(max(y[len(y) - 1])) + 1\n",
    "\n",
    "    def processBatch(self, Y):\n",
    "        '''input should be same size format as patterns. Implements asynchronous update'''\n",
    "        return np.array([self.defineLabel(y) for y in tqdm(Y)])\n",
    "\n",
    "    def change(self, v, a, b):  # функция для преобразования вектора v в матрицу заданных размеров a и b\n",
    "        t = [[0 for j in range(a)] for i in range(b)]\n",
    "        k = 0\n",
    "        j = 0\n",
    "        while k < b:\n",
    "            i = 0\n",
    "            while i < a:\n",
    "                t[k][i] = v[j]\n",
    "                j += 1\n",
    "                i += 1\n",
    "            k += 1\n",
    "        return t\n",
    "\n",
    "    def product(self, w, y, T):  # функция умножения матрицы на вектор\n",
    "        z = []\n",
    "        for i in range(len(w)):\n",
    "            x = 0\n",
    "            for j in range(len(y)):\n",
    "                x = x + w[i][j] * y[j]\n",
    "            z.append((x + T))\n",
    "        return z\n",
    "\n",
    "    def action(self, s, T, Emax):  # активационная функция\n",
    "        t = []\n",
    "        for i in s:\n",
    "            if i <= 0:\n",
    "                t.append(0)\n",
    "            elif 0 < i <= T:\n",
    "                t.append(Emax * i)\n",
    "            elif i > T:\n",
    "                t.append(T)\n",
    "        return t\n",
    "\n",
    "    def mysum(self, y, j):  # функция для вычисления суммы значений вектора при  i != j\n",
    "        p = 0\n",
    "        sum = 0\n",
    "        while p < len(y):\n",
    "            if p != j:\n",
    "                sum = sum + y[p]\n",
    "            p += 1\n",
    "        return sum\n",
    "\n",
    "    def norm(self, v, p):  # функция вычисляющая разность двух векторов и вычисляющая норму получившегося вектора\n",
    "        t = []\n",
    "        for i in range(len(v)):\n",
    "            t.append(v[i] - p[i])\n",
    "        sum = 0\n",
    "        for i in t:\n",
    "            sum += i * i\n",
    "        return sqrt(sum)"
   ],
   "metadata": {
    "collapsed": false
   }
  },
  {
   "cell_type": "code",
   "execution_count": 4,
   "outputs": [
    {
     "name": "stderr",
     "output_type": "stream",
     "text": [
      "100%|██████████| 8/8 [00:00<?, ?it/s]\n"
     ]
    },
    {
     "data": {
      "text/plain": "[<matplotlib.lines.Line2D at 0x1ddf6d24ac0>]"
     },
     "execution_count": 4,
     "metadata": {},
     "output_type": "execute_result"
    },
    {
     "data": {
      "text/plain": "<Figure size 640x480 with 2 Axes>",
      "image/png": "[encoded data removed]"
     },
     "metadata": {},
     "output_type": "display_data"
    }
   ],
   "source": [
    "# create patterns\n",
    "supervised = True\n",
    "factor = 2.0 / np.max(X_train)\n",
    "avg_classes = lambda: np.array([factor * np.mean(X_train[Y_train == l, :], axis=0) - 1.0\n",
    "                                for l in np.unique(Y_train)])\n",
    "patterns = avg_classes() if supervised else (factor * X_train - 1)\n",
    "\n",
    "# convert to bitwise\n",
    "low = -1.0\n",
    "high = 1.0\n",
    "iters = 8\n",
    "metric = np.zeros(iters)\n",
    "threshold = np.zeros(iters)\n",
    "for i in tqdm(range(iters)):\n",
    "    threshold[i] = (low + high) / 2\n",
    "    metric[i] = np.mean(np.where(patterns < threshold[i], -1, 1))\n",
    "    if metric[i] > -0.7:  # 0.7 chosen by inspection\n",
    "        low = threshold[i]\n",
    "    else:\n",
    "        high = threshold[i]\n",
    "bitPatterns = np.where(patterns < threshold[-1], -1, 1)\n",
    "XB_train = np.where((factor * X_train - 1) < threshold[-1], -1, 1) if supervised else bitPatterns\n",
    "XB_test = np.where((factor * X_test - 1) < threshold[-1], -1, 1)\n",
    "\n",
    "plt.subplot(211)\n",
    "plt.title('Balance')\n",
    "plt.plot(metric)\n",
    "plt.subplot(212)\n",
    "plt.title('Threshold')\n",
    "plt.plot(threshold)"
   ],
   "metadata": {
    "collapsed": false
   }
  },
  {
   "cell_type": "code",
   "execution_count": 5,
   "outputs": [
    {
     "data": {
      "text/plain": "<Figure size 2000x800 with 10 Axes>",
      "image/png": "[encoded data removed]"
     },
     "metadata": {},
     "output_type": "display_data"
    }
   ],
   "source": [
    "#peek at patterns\n",
    "plt.figure(figsize=[20, 8])\n",
    "for i in range(min(len(bitPatterns), 10)):\n",
    "    plt.subplot(2, 5, i + 1)\n",
    "    plt.title(i if supervised else Y_train[i])\n",
    "    plt.axis('off')\n",
    "    plt.imshow(bitPatterns[i].reshape((28, 28)), cmap='gray')"
   ],
   "metadata": {
    "collapsed": false
   }
  },
  {
   "cell_type": "code",
   "execution_count": null,
   "outputs": [
    {
     "name": "stderr",
     "output_type": "stream",
     "text": [
      " 11%|█         | 4651/42000 [00:23<03:05, 201.35it/s]"
     ]
    }
   ],
   "source": [
    "hamming = Hamming_Net(bitPatterns)\n",
    "predict = hamming.processBatch(XB_train)"
   ],
   "metadata": {
    "collapsed": false,
    "pycharm": {
     "is_executing": true
    }
   }
  },
  {
   "cell_type": "code",
   "execution_count": null,
   "outputs": [],
   "source": [
    "predict = hamming.processBatch(XB_train)"
   ],
   "metadata": {
    "collapsed": false,
    "pycharm": {
     "is_executing": true
    }
   }
  },
  {
   "cell_type": "code",
   "execution_count": null,
   "outputs": [],
   "source": [
    "plt.figure(figsize=[20, 8])\n",
    "for i, c in enumerate(np.random.choice(len(XH_train), 5, False)):\n",
    "    l = Y_train[c]\n",
    "\n",
    "    # original image\n",
    "    plt.subplot(2, 5, i + 1)\n",
    "    plt.title(\"{} Original\".format(l))\n",
    "    plt.axis('off')\n",
    "    plt.imshow(X_train[c].reshape((28, 28)), cmap='gray')\n",
    "\n",
    "    # processed image\n",
    "    plt.subplot(2, 5, i + 6)\n",
    "    plt.title(\"{} Processed\".format(l))\n",
    "    plt.axis('off')\n",
    "    plt.imshow(XH_train[c].reshape((28, 28)), cmap='gray')"
   ],
   "metadata": {
    "collapsed": false,
    "pycharm": {
     "is_executing": true
    }
   }
  },
  {
   "cell_type": "code",
   "execution_count": null,
   "outputs": [],
   "source": [
    "from scipy.spatial import distance\n",
    "\n",
    "\n",
    "def determineLabel(x):\n",
    "    leastDistance = 100\n",
    "    label = 0\n",
    "    for lbl, b in enumerate(bitPatterns):\n",
    "        dst = distance.euclidean(x, b)\n",
    "        if (dst < leastDistance):\n",
    "            leastDistance = dst\n",
    "            label = lbl\n",
    "    return label\n",
    "\n",
    "\n",
    "def getLabelByLeastRange(X):\n",
    "    return np.array([determineLabel(x) for x in X])\n"
   ],
   "metadata": {
    "collapsed": false,
    "pycharm": {
     "is_executing": true
    }
   }
  },
  {
   "cell_type": "code",
   "execution_count": null,
   "outputs": [],
   "source": [
    "from sklearn.metrics import classification_report\n",
    "\n",
    "print(classification_report(Y_train, getLabelByLeastRange(XH_train)))"
   ],
   "metadata": {
    "collapsed": false,
    "pycharm": {
     "is_executing": true
    }
   }
  }
 ],
 "metadata": {
  "kernelspec": {
   "display_name": "Python 3",
   "language": "python",
   "name": "python3"
  },
  "language_info": {
   "codemirror_mode": {
    "name": "ipython",
    "version": 2
   },
   "file_extension": ".py",
   "mimetype": "text/x-python",
   "name": "python",
   "nbconvert_exporter": "python",
   "pygments_lexer": "ipython2",
   "version": "2.7.6"
  }
 },
 "nbformat": 4,
 "nbformat_minor": 0
}
